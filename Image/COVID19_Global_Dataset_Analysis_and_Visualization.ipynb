{
  "nbformat": 4,
  "nbformat_minor": 0,
  "metadata": {
    "colab": {
      "name": "COVID19_Global Dataset_Analysis and Visualization.ipynb",
      "provenance": [],
      "collapsed_sections": []
    },
    "kernelspec": {
      "name": "python3",
      "display_name": "Python 3"
    },
    "language_info": {
      "name": "python"
    }
  },
  "cells": [
    {
      "cell_type": "code",
      "metadata": {
        "id": "E9XxDPMD7GQc"
      },
      "source": [
        "import numpy as np\n",
        "import pandas as pd\n",
        "import math\n",
        "import seaborn as sns\n",
        "import matplotlib.pyplot as plt\n",
        "import warnings\n",
        "warnings.filterwarnings(\"ignore\")\n",
        "%matplotlib inline"
      ],
      "execution_count": 1,
      "outputs": []
    },
    {
      "cell_type": "code",
      "metadata": {
        "id": "YKzP1Bcu7eD2"
      },
      "source": [
        "# Kaggle API\n",
        "import os\n",
        "os.environ['KAGGLE_USERNAME'] = 'kambleabhijeet'\n",
        "os.environ['KAGGLE_KEY'] = 'ea830af5f56bdcefde51c1f9b34db965'"
      ],
      "execution_count": 2,
      "outputs": []
    },
    {
      "cell_type": "code",
      "metadata": {
        "colab": {
          "base_uri": "https://localhost:8080/"
        },
        "id": "CkBD12q4_ohO",
        "outputId": "c3dfe4f8-7e45-4183-aaf6-4bd6e4faeb0f"
      },
      "source": [
        "# Downloading the dataset directly from Kaggle on the Colab environment \n",
        "!kaggle datasets download -d josephassaker/covid19-global-dataset"
      ],
      "execution_count": 3,
      "outputs": [
        {
          "output_type": "stream",
          "name": "stdout",
          "text": [
            "covid19-global-dataset.zip: Skipping, found more recently modified local copy (use --force to force download)\n"
          ]
        }
      ]
    },
    {
      "cell_type": "code",
      "metadata": {
        "colab": {
          "base_uri": "https://localhost:8080/"
        },
        "id": "c51ahpNK_1vW",
        "outputId": "a1ef48c1-ad58-476b-afc5-f53d680ae580"
      },
      "source": [
        "# Unzipping the dataset\n",
        "! unzip /content/covid19-global-dataset.zip"
      ],
      "execution_count": 4,
      "outputs": [
        {
          "output_type": "stream",
          "name": "stdout",
          "text": [
            "Archive:  /content/covid19-global-dataset.zip\n",
            "replace worldometer_coronavirus_daily_data.csv? [y]es, [n]o, [A]ll, [N]one, [r]ename: N\n"
          ]
        }
      ]
    },
    {
      "cell_type": "code",
      "metadata": {
        "id": "lE1Z0pmHAz7V"
      },
      "source": [
        "from datetime import datetime, timedelta\n",
        "dateparse = lambda x: datetime.strptime(x, '%Y-%m-%d')"
      ],
      "execution_count": 5,
      "outputs": []
    },
    {
      "cell_type": "code",
      "metadata": {
        "colab": {
          "base_uri": "https://localhost:8080/",
          "height": 203
        },
        "id": "5RwVWraHB3Sp",
        "outputId": "461ea951-c77f-4d3c-ab58-96b2f3f30f3f"
      },
      "source": [
        "# Load the daily dataset\n",
        "df= pd.read_csv('/content/worldometer_coronavirus_daily_data.csv',parse_dates=['date'], date_parser=dateparse)\n",
        "df.head()"
      ],
      "execution_count": 6,
      "outputs": [
        {
          "output_type": "execute_result",
          "data": {
            "text/html": [
              "<div>\n",
              "<style scoped>\n",
              "    .dataframe tbody tr th:only-of-type {\n",
              "        vertical-align: middle;\n",
              "    }\n",
              "\n",
              "    .dataframe tbody tr th {\n",
              "        vertical-align: top;\n",
              "    }\n",
              "\n",
              "    .dataframe thead th {\n",
              "        text-align: right;\n",
              "    }\n",
              "</style>\n",
              "<table border=\"1\" class=\"dataframe\">\n",
              "  <thead>\n",
              "    <tr style=\"text-align: right;\">\n",
              "      <th></th>\n",
              "      <th>date</th>\n",
              "      <th>country</th>\n",
              "      <th>cumulative_total_cases</th>\n",
              "      <th>daily_new_cases</th>\n",
              "      <th>active_cases</th>\n",
              "      <th>cumulative_total_deaths</th>\n",
              "      <th>daily_new_deaths</th>\n",
              "    </tr>\n",
              "  </thead>\n",
              "  <tbody>\n",
              "    <tr>\n",
              "      <th>0</th>\n",
              "      <td>2020-02-15</td>\n",
              "      <td>Afghanistan</td>\n",
              "      <td>0.0</td>\n",
              "      <td>NaN</td>\n",
              "      <td>0.0</td>\n",
              "      <td>0.0</td>\n",
              "      <td>NaN</td>\n",
              "    </tr>\n",
              "    <tr>\n",
              "      <th>1</th>\n",
              "      <td>2020-02-16</td>\n",
              "      <td>Afghanistan</td>\n",
              "      <td>0.0</td>\n",
              "      <td>NaN</td>\n",
              "      <td>0.0</td>\n",
              "      <td>0.0</td>\n",
              "      <td>NaN</td>\n",
              "    </tr>\n",
              "    <tr>\n",
              "      <th>2</th>\n",
              "      <td>2020-02-17</td>\n",
              "      <td>Afghanistan</td>\n",
              "      <td>0.0</td>\n",
              "      <td>NaN</td>\n",
              "      <td>0.0</td>\n",
              "      <td>0.0</td>\n",
              "      <td>NaN</td>\n",
              "    </tr>\n",
              "    <tr>\n",
              "      <th>3</th>\n",
              "      <td>2020-02-18</td>\n",
              "      <td>Afghanistan</td>\n",
              "      <td>0.0</td>\n",
              "      <td>NaN</td>\n",
              "      <td>0.0</td>\n",
              "      <td>0.0</td>\n",
              "      <td>NaN</td>\n",
              "    </tr>\n",
              "    <tr>\n",
              "      <th>4</th>\n",
              "      <td>2020-02-19</td>\n",
              "      <td>Afghanistan</td>\n",
              "      <td>0.0</td>\n",
              "      <td>NaN</td>\n",
              "      <td>0.0</td>\n",
              "      <td>0.0</td>\n",
              "      <td>NaN</td>\n",
              "    </tr>\n",
              "  </tbody>\n",
              "</table>\n",
              "</div>"
            ],
            "text/plain": [
              "        date      country  ...  cumulative_total_deaths  daily_new_deaths\n",
              "0 2020-02-15  Afghanistan  ...                      0.0               NaN\n",
              "1 2020-02-16  Afghanistan  ...                      0.0               NaN\n",
              "2 2020-02-17  Afghanistan  ...                      0.0               NaN\n",
              "3 2020-02-18  Afghanistan  ...                      0.0               NaN\n",
              "4 2020-02-19  Afghanistan  ...                      0.0               NaN\n",
              "\n",
              "[5 rows x 7 columns]"
            ]
          },
          "metadata": {},
          "execution_count": 6
        }
      ]
    },
    {
      "cell_type": "code",
      "metadata": {
        "colab": {
          "base_uri": "https://localhost:8080/",
          "height": 223
        },
        "id": "-9wzAMv0EyZK",
        "outputId": "72073bf6-9dfe-437a-8e8f-bdbfb4121014"
      },
      "source": [
        "# Load the summary dataset\n",
        "df_summary = pd.read_csv('/content/worldometer_coronavirus_summary_data.csv')\n",
        "df_summary.head()"
      ],
      "execution_count": 7,
      "outputs": [
        {
          "output_type": "execute_result",
          "data": {
            "text/html": [
              "<div>\n",
              "<style scoped>\n",
              "    .dataframe tbody tr th:only-of-type {\n",
              "        vertical-align: middle;\n",
              "    }\n",
              "\n",
              "    .dataframe tbody tr th {\n",
              "        vertical-align: top;\n",
              "    }\n",
              "\n",
              "    .dataframe thead th {\n",
              "        text-align: right;\n",
              "    }\n",
              "</style>\n",
              "<table border=\"1\" class=\"dataframe\">\n",
              "  <thead>\n",
              "    <tr style=\"text-align: right;\">\n",
              "      <th></th>\n",
              "      <th>country</th>\n",
              "      <th>continent</th>\n",
              "      <th>total_confirmed</th>\n",
              "      <th>total_deaths</th>\n",
              "      <th>total_recovered</th>\n",
              "      <th>active_cases</th>\n",
              "      <th>serious_or_critical</th>\n",
              "      <th>total_cases_per_1m_population</th>\n",
              "      <th>total_deaths_per_1m_population</th>\n",
              "      <th>total_tests</th>\n",
              "      <th>total_tests_per_1m_population</th>\n",
              "      <th>population</th>\n",
              "    </tr>\n",
              "  </thead>\n",
              "  <tbody>\n",
              "    <tr>\n",
              "      <th>0</th>\n",
              "      <td>Afghanistan</td>\n",
              "      <td>Asia</td>\n",
              "      <td>147473</td>\n",
              "      <td>6736.0</td>\n",
              "      <td>98073.0</td>\n",
              "      <td>42664.0</td>\n",
              "      <td>1124.0</td>\n",
              "      <td>3699</td>\n",
              "      <td>169.0</td>\n",
              "      <td>707244.0</td>\n",
              "      <td>17739.0</td>\n",
              "      <td>39869084</td>\n",
              "    </tr>\n",
              "    <tr>\n",
              "      <th>1</th>\n",
              "      <td>Albania</td>\n",
              "      <td>Europe</td>\n",
              "      <td>133081</td>\n",
              "      <td>2457.0</td>\n",
              "      <td>130222.0</td>\n",
              "      <td>402.0</td>\n",
              "      <td>3.0</td>\n",
              "      <td>46299</td>\n",
              "      <td>855.0</td>\n",
              "      <td>916777.0</td>\n",
              "      <td>318945.0</td>\n",
              "      <td>2874408</td>\n",
              "    </tr>\n",
              "    <tr>\n",
              "      <th>2</th>\n",
              "      <td>Algeria</td>\n",
              "      <td>Africa</td>\n",
              "      <td>171392</td>\n",
              "      <td>4254.0</td>\n",
              "      <td>115276.0</td>\n",
              "      <td>51862.0</td>\n",
              "      <td>47.0</td>\n",
              "      <td>3834</td>\n",
              "      <td>95.0</td>\n",
              "      <td>230861.0</td>\n",
              "      <td>5164.0</td>\n",
              "      <td>44701619</td>\n",
              "    </tr>\n",
              "    <tr>\n",
              "      <th>3</th>\n",
              "      <td>Andorra</td>\n",
              "      <td>Europe</td>\n",
              "      <td>14678</td>\n",
              "      <td>128.0</td>\n",
              "      <td>14210.0</td>\n",
              "      <td>340.0</td>\n",
              "      <td>NaN</td>\n",
              "      <td>189643</td>\n",
              "      <td>1654.0</td>\n",
              "      <td>193595.0</td>\n",
              "      <td>2501292.0</td>\n",
              "      <td>77398</td>\n",
              "    </tr>\n",
              "    <tr>\n",
              "      <th>4</th>\n",
              "      <td>Angola</td>\n",
              "      <td>Africa</td>\n",
              "      <td>42646</td>\n",
              "      <td>1008.0</td>\n",
              "      <td>36708.0</td>\n",
              "      <td>4930.0</td>\n",
              "      <td>8.0</td>\n",
              "      <td>1256</td>\n",
              "      <td>30.0</td>\n",
              "      <td>681443.0</td>\n",
              "      <td>20065.0</td>\n",
              "      <td>33961015</td>\n",
              "    </tr>\n",
              "  </tbody>\n",
              "</table>\n",
              "</div>"
            ],
            "text/plain": [
              "       country continent  ...  total_tests_per_1m_population  population\n",
              "0  Afghanistan      Asia  ...                        17739.0    39869084\n",
              "1      Albania    Europe  ...                       318945.0     2874408\n",
              "2      Algeria    Africa  ...                         5164.0    44701619\n",
              "3      Andorra    Europe  ...                      2501292.0       77398\n",
              "4       Angola    Africa  ...                        20065.0    33961015\n",
              "\n",
              "[5 rows x 12 columns]"
            ]
          },
          "metadata": {},
          "execution_count": 7
        }
      ]
    },
    {
      "cell_type": "code",
      "metadata": {
        "colab": {
          "base_uri": "https://localhost:8080/"
        },
        "id": "IowRupssCFBy",
        "outputId": "650e4e74-409f-4c1b-ccb8-c256b3f4b4e4"
      },
      "source": [
        "# Check dimension of dataset\n",
        "r,c = df.shape\n",
        "print(f'No. of rows: {r}')\n",
        "print(f'No. of columns: {c}')"
      ],
      "execution_count": 8,
      "outputs": [
        {
          "output_type": "stream",
          "name": "stdout",
          "text": [
            "No. of rows: 117064\n",
            "No. of columns: 7\n"
          ]
        }
      ]
    },
    {
      "cell_type": "code",
      "metadata": {
        "colab": {
          "base_uri": "https://localhost:8080/"
        },
        "id": "RzTFiDoCCdiI",
        "outputId": "599827fd-2ffe-46be-b2e1-55db9ea99193"
      },
      "source": [
        "# Check the missing value\n",
        "print(df.isnull().sum())\n",
        "print(f'\\nTotal missing values present in the dataset: {df.isnull().values.sum()}')"
      ],
      "execution_count": 9,
      "outputs": [
        {
          "output_type": "stream",
          "name": "stdout",
          "text": [
            "date                           0\n",
            "country                        0\n",
            "cumulative_total_cases         0\n",
            "daily_new_cases             6873\n",
            "active_cases                 532\n",
            "cumulative_total_deaths     6916\n",
            "daily_new_deaths           20843\n",
            "dtype: int64\n",
            "\n",
            "Total missing values present in the dataset: 35164\n"
          ]
        }
      ]
    },
    {
      "cell_type": "code",
      "metadata": {
        "colab": {
          "base_uri": "https://localhost:8080/",
          "height": 295
        },
        "id": "2ZkXPUdlCwGJ",
        "outputId": "5fea078d-e911-49ab-cf8e-5db7900cdcb6"
      },
      "source": [
        "# Descriptive statistics of the dataset\n",
        "df.describe()"
      ],
      "execution_count": 10,
      "outputs": [
        {
          "output_type": "execute_result",
          "data": {
            "text/html": [
              "<div>\n",
              "<style scoped>\n",
              "    .dataframe tbody tr th:only-of-type {\n",
              "        vertical-align: middle;\n",
              "    }\n",
              "\n",
              "    .dataframe tbody tr th {\n",
              "        vertical-align: top;\n",
              "    }\n",
              "\n",
              "    .dataframe thead th {\n",
              "        text-align: right;\n",
              "    }\n",
              "</style>\n",
              "<table border=\"1\" class=\"dataframe\">\n",
              "  <thead>\n",
              "    <tr style=\"text-align: right;\">\n",
              "      <th></th>\n",
              "      <th>cumulative_total_cases</th>\n",
              "      <th>daily_new_cases</th>\n",
              "      <th>active_cases</th>\n",
              "      <th>cumulative_total_deaths</th>\n",
              "      <th>daily_new_deaths</th>\n",
              "    </tr>\n",
              "  </thead>\n",
              "  <tbody>\n",
              "    <tr>\n",
              "      <th>count</th>\n",
              "      <td>1.170640e+05</td>\n",
              "      <td>110191.000000</td>\n",
              "      <td>1.165320e+05</td>\n",
              "      <td>110148.000000</td>\n",
              "      <td>96221.000000</td>\n",
              "    </tr>\n",
              "    <tr>\n",
              "      <th>mean</th>\n",
              "      <td>3.232067e+05</td>\n",
              "      <td>1796.563767</td>\n",
              "      <td>4.285222e+04</td>\n",
              "      <td>8250.967734</td>\n",
              "      <td>43.891895</td>\n",
              "    </tr>\n",
              "    <tr>\n",
              "      <th>std</th>\n",
              "      <td>1.855618e+06</td>\n",
              "      <td>10553.141797</td>\n",
              "      <td>3.395986e+05</td>\n",
              "      <td>38418.415852</td>\n",
              "      <td>201.552470</td>\n",
              "    </tr>\n",
              "    <tr>\n",
              "      <th>min</th>\n",
              "      <td>0.000000e+00</td>\n",
              "      <td>-322.000000</td>\n",
              "      <td>-1.432100e+04</td>\n",
              "      <td>0.000000</td>\n",
              "      <td>-31.000000</td>\n",
              "    </tr>\n",
              "    <tr>\n",
              "      <th>25%</th>\n",
              "      <td>3.230000e+02</td>\n",
              "      <td>0.000000</td>\n",
              "      <td>3.000000e+01</td>\n",
              "      <td>9.000000</td>\n",
              "      <td>0.000000</td>\n",
              "    </tr>\n",
              "    <tr>\n",
              "      <th>50%</th>\n",
              "      <td>6.603000e+03</td>\n",
              "      <td>40.000000</td>\n",
              "      <td>8.000000e+02</td>\n",
              "      <td>131.000000</td>\n",
              "      <td>1.000000</td>\n",
              "    </tr>\n",
              "    <tr>\n",
              "      <th>75%</th>\n",
              "      <td>8.798600e+04</td>\n",
              "      <td>544.000000</td>\n",
              "      <td>9.288250e+03</td>\n",
              "      <td>1821.000000</td>\n",
              "      <td>12.000000</td>\n",
              "    </tr>\n",
              "    <tr>\n",
              "      <th>max</th>\n",
              "      <td>3.568851e+07</td>\n",
              "      <td>414433.000000</td>\n",
              "      <td>9.041162e+06</td>\n",
              "      <td>629064.000000</td>\n",
              "      <td>5015.000000</td>\n",
              "    </tr>\n",
              "  </tbody>\n",
              "</table>\n",
              "</div>"
            ],
            "text/plain": [
              "       cumulative_total_cases  ...  daily_new_deaths\n",
              "count            1.170640e+05  ...      96221.000000\n",
              "mean             3.232067e+05  ...         43.891895\n",
              "std              1.855618e+06  ...        201.552470\n",
              "min              0.000000e+00  ...        -31.000000\n",
              "25%              3.230000e+02  ...          0.000000\n",
              "50%              6.603000e+03  ...          1.000000\n",
              "75%              8.798600e+04  ...         12.000000\n",
              "max              3.568851e+07  ...       5015.000000\n",
              "\n",
              "[8 rows x 5 columns]"
            ]
          },
          "metadata": {},
          "execution_count": 10
        }
      ]
    },
    {
      "cell_type": "code",
      "metadata": {
        "colab": {
          "base_uri": "https://localhost:8080/",
          "height": 417
        },
        "id": "ltLeEdTxDEUg",
        "outputId": "b1c17fba-ffc3-4ca2-8c92-dbbe3bc65a32"
      },
      "source": [
        "# Add a 'continent' column to dataset from summary dataset\n",
        "df['continent'] = df.apply(lambda row: df_summary[df_summary.country == row.country].iloc[0].continent, axis=1)\n",
        "df"
      ],
      "execution_count": 11,
      "outputs": [
        {
          "output_type": "execute_result",
          "data": {
            "text/html": [
              "<div>\n",
              "<style scoped>\n",
              "    .dataframe tbody tr th:only-of-type {\n",
              "        vertical-align: middle;\n",
              "    }\n",
              "\n",
              "    .dataframe tbody tr th {\n",
              "        vertical-align: top;\n",
              "    }\n",
              "\n",
              "    .dataframe thead th {\n",
              "        text-align: right;\n",
              "    }\n",
              "</style>\n",
              "<table border=\"1\" class=\"dataframe\">\n",
              "  <thead>\n",
              "    <tr style=\"text-align: right;\">\n",
              "      <th></th>\n",
              "      <th>date</th>\n",
              "      <th>country</th>\n",
              "      <th>cumulative_total_cases</th>\n",
              "      <th>daily_new_cases</th>\n",
              "      <th>active_cases</th>\n",
              "      <th>cumulative_total_deaths</th>\n",
              "      <th>daily_new_deaths</th>\n",
              "      <th>continent</th>\n",
              "    </tr>\n",
              "  </thead>\n",
              "  <tbody>\n",
              "    <tr>\n",
              "      <th>0</th>\n",
              "      <td>2020-02-15</td>\n",
              "      <td>Afghanistan</td>\n",
              "      <td>0.0</td>\n",
              "      <td>NaN</td>\n",
              "      <td>0.0</td>\n",
              "      <td>0.0</td>\n",
              "      <td>NaN</td>\n",
              "      <td>Asia</td>\n",
              "    </tr>\n",
              "    <tr>\n",
              "      <th>1</th>\n",
              "      <td>2020-02-16</td>\n",
              "      <td>Afghanistan</td>\n",
              "      <td>0.0</td>\n",
              "      <td>NaN</td>\n",
              "      <td>0.0</td>\n",
              "      <td>0.0</td>\n",
              "      <td>NaN</td>\n",
              "      <td>Asia</td>\n",
              "    </tr>\n",
              "    <tr>\n",
              "      <th>2</th>\n",
              "      <td>2020-02-17</td>\n",
              "      <td>Afghanistan</td>\n",
              "      <td>0.0</td>\n",
              "      <td>NaN</td>\n",
              "      <td>0.0</td>\n",
              "      <td>0.0</td>\n",
              "      <td>NaN</td>\n",
              "      <td>Asia</td>\n",
              "    </tr>\n",
              "    <tr>\n",
              "      <th>3</th>\n",
              "      <td>2020-02-18</td>\n",
              "      <td>Afghanistan</td>\n",
              "      <td>0.0</td>\n",
              "      <td>NaN</td>\n",
              "      <td>0.0</td>\n",
              "      <td>0.0</td>\n",
              "      <td>NaN</td>\n",
              "      <td>Asia</td>\n",
              "    </tr>\n",
              "    <tr>\n",
              "      <th>4</th>\n",
              "      <td>2020-02-19</td>\n",
              "      <td>Afghanistan</td>\n",
              "      <td>0.0</td>\n",
              "      <td>NaN</td>\n",
              "      <td>0.0</td>\n",
              "      <td>0.0</td>\n",
              "      <td>NaN</td>\n",
              "      <td>Asia</td>\n",
              "    </tr>\n",
              "    <tr>\n",
              "      <th>...</th>\n",
              "      <td>...</td>\n",
              "      <td>...</td>\n",
              "      <td>...</td>\n",
              "      <td>...</td>\n",
              "      <td>...</td>\n",
              "      <td>...</td>\n",
              "      <td>...</td>\n",
              "      <td>...</td>\n",
              "    </tr>\n",
              "    <tr>\n",
              "      <th>117059</th>\n",
              "      <td>2021-07-26</td>\n",
              "      <td>Zimbabwe</td>\n",
              "      <td>99944.0</td>\n",
              "      <td>2050.0</td>\n",
              "      <td>28944.0</td>\n",
              "      <td>3173.0</td>\n",
              "      <td>79.0</td>\n",
              "      <td>Africa</td>\n",
              "    </tr>\n",
              "    <tr>\n",
              "      <th>117060</th>\n",
              "      <td>2021-07-27</td>\n",
              "      <td>Zimbabwe</td>\n",
              "      <td>101711.0</td>\n",
              "      <td>1767.0</td>\n",
              "      <td>27935.0</td>\n",
              "      <td>3280.0</td>\n",
              "      <td>107.0</td>\n",
              "      <td>Africa</td>\n",
              "    </tr>\n",
              "    <tr>\n",
              "      <th>117061</th>\n",
              "      <td>2021-07-28</td>\n",
              "      <td>Zimbabwe</td>\n",
              "      <td>103567.0</td>\n",
              "      <td>1856.0</td>\n",
              "      <td>28844.0</td>\n",
              "      <td>3340.0</td>\n",
              "      <td>60.0</td>\n",
              "      <td>Africa</td>\n",
              "    </tr>\n",
              "    <tr>\n",
              "      <th>117062</th>\n",
              "      <td>2021-07-29</td>\n",
              "      <td>Zimbabwe</td>\n",
              "      <td>105656.0</td>\n",
              "      <td>2089.0</td>\n",
              "      <td>28841.0</td>\n",
              "      <td>3421.0</td>\n",
              "      <td>81.0</td>\n",
              "      <td>Africa</td>\n",
              "    </tr>\n",
              "    <tr>\n",
              "      <th>117063</th>\n",
              "      <td>2021-07-30</td>\n",
              "      <td>Zimbabwe</td>\n",
              "      <td>107490.0</td>\n",
              "      <td>1834.0</td>\n",
              "      <td>29438.0</td>\n",
              "      <td>3490.0</td>\n",
              "      <td>69.0</td>\n",
              "      <td>Africa</td>\n",
              "    </tr>\n",
              "  </tbody>\n",
              "</table>\n",
              "<p>117064 rows × 8 columns</p>\n",
              "</div>"
            ],
            "text/plain": [
              "             date      country  ...  daily_new_deaths  continent\n",
              "0      2020-02-15  Afghanistan  ...               NaN       Asia\n",
              "1      2020-02-16  Afghanistan  ...               NaN       Asia\n",
              "2      2020-02-17  Afghanistan  ...               NaN       Asia\n",
              "3      2020-02-18  Afghanistan  ...               NaN       Asia\n",
              "4      2020-02-19  Afghanistan  ...               NaN       Asia\n",
              "...           ...          ...  ...               ...        ...\n",
              "117059 2021-07-26     Zimbabwe  ...              79.0     Africa\n",
              "117060 2021-07-27     Zimbabwe  ...             107.0     Africa\n",
              "117061 2021-07-28     Zimbabwe  ...              60.0     Africa\n",
              "117062 2021-07-29     Zimbabwe  ...              81.0     Africa\n",
              "117063 2021-07-30     Zimbabwe  ...              69.0     Africa\n",
              "\n",
              "[117064 rows x 8 columns]"
            ]
          },
          "metadata": {},
          "execution_count": 11
        }
      ]
    },
    {
      "cell_type": "markdown",
      "metadata": {
        "id": "FkKRr4iNptBs"
      },
      "source": [
        "# Global Statistics"
      ]
    },
    {
      "cell_type": "code",
      "metadata": {
        "colab": {
          "base_uri": "https://localhost:8080/",
          "height": 427
        },
        "id": "WvZCsM-BENfp",
        "outputId": "2bcd1920-6b5b-46e9-c59d-b10aa6d63e1e"
      },
      "source": [
        "# Data\n",
        "data=[df_summary.total_recovered.sum(), df_summary.active_cases.sum(), df_summary.total_deaths.sum()]\n",
        "\n",
        "# Labels\n",
        "labels=['Total Recovered', 'Total Active', 'Total Deaths']\n",
        "\n",
        "# Creating color parameters\n",
        "colors = ( \"grey\", \"yellow\", \"pink\")\n",
        "  \n",
        "fig, ax = plt.subplots(figsize =(10, 7))\n",
        "plt.title('COVID19 Cases Status')\n",
        "plt.pie(data, \n",
        "        labels = None,\n",
        "        autopct = '%1.1f%%',\n",
        "        #startangle = 90,\n",
        "        shadow = True,\n",
        "        colors = colors,\n",
        "        explode= (0.1,0.1,0.1),\n",
        "        wedgeprops = {\"edgecolor\" : \"black\",\n",
        "                      'linewidth': 1,\n",
        "                      'antialiased': True}\n",
        "        )\n",
        "\n",
        "\n",
        "# Adding legend\n",
        "ax.legend(labels,\n",
        "          title =\"Status\",\n",
        "          loc =\"best fit\",\n",
        "          bbox_to_anchor =(1, 0, 0.5, 1))\n",
        "  \n",
        "# show plot\n",
        "plt.show()"
      ],
      "execution_count": 12,
      "outputs": [
        {
          "output_type": "display_data",
          "data": {
            "image/png": "[encoded data removed]",
            "text/plain": [
              "<Figure size 720x504 with 1 Axes>"
            ]
          },
          "metadata": {}
        }
      ]
    },
    {
      "cell_type": "markdown",
      "metadata": {
        "id": "wef17yZKk5WZ"
      },
      "source": [
        "The above graph shows that the breakdown of all reported cases so far, globally we can observe some very frightening numbers. That out of all cases reported globally 90.3% of cases are recoveries in other hand 7.5% of cases are still active, and rest of the 2.2% of cases ended with death."
      ]
    },
    {
      "cell_type": "code",
      "metadata": {
        "id": "NFEGBBt6JlFv",
        "colab": {
          "base_uri": "https://localhost:8080/",
          "height": 542
        },
        "outputId": "34200338-8a86-4096-babf-5804a9eed3c0"
      },
      "source": [
        "import plotly.express as px\n",
        "import plotly.graph_objs as go\n",
        "\n",
        "def add_commas(num):\n",
        "    out = \"\"\n",
        "    counter = 0\n",
        "    for n in num[::-1]:\n",
        "        counter += 1\n",
        "        if counter == 4:\n",
        "            counter = 1\n",
        "            out = \",\" + out\n",
        "        out = n + out\n",
        "    return out\n",
        "\n",
        "df_summary['log(Total Confirmed)'] = np.log2(df_summary['total_confirmed'])\n",
        "df_summary['Total Confirmed'] = df_summary['total_confirmed'].apply(lambda x: add_commas(str(x)))\n",
        "\n",
        "fig = px.choropleth(df_summary,\n",
        "                    locations=\"country\",\n",
        "                    color=\"log(Total Confirmed)\",\n",
        "                    locationmode = 'country names',\n",
        "                    hover_name='country',\n",
        "                    hover_data=['Total Confirmed'],\n",
        "                    color_continuous_scale='blues',\n",
        "                    title = '<b>Coronavirus Confirmed Cases Around The Globe</b>')\n",
        "\n",
        "log_scale_vals = list(range(0,25,2))\n",
        "scale_vals = (np.exp2(log_scale_vals)).astype(int).astype(str)\n",
        "\n",
        "scale_vals = list(map(add_commas, scale_vals))\n",
        "\n",
        "fig.update_layout(title_font_size=22,\n",
        "                  margin={\"r\":20, \"l\":30},\n",
        "                  coloraxis={#\"showscale\":False,\n",
        "                            \"colorbar\":dict(title=\"<b>Confirmed Cases</b><br>\",\n",
        "                                            #range=[np.log(50), np.log(6400)],\n",
        "                                            titleside=\"top\",\n",
        "                                            tickmode=\"array\",\n",
        "                                            tickvals=log_scale_vals,\n",
        "                                            ticktext=scale_vals\n",
        "                                        )},\n",
        "                 )\n",
        "\n",
        "fig.show()"
      ],
      "execution_count": 13,
      "outputs": [
        {
          "output_type": "display_data",
          "data": {
            "text/html": [
              "<html>\n",
              "<head><meta charset=\"utf-8\" /></head>\n",
              "<body>\n",
              "    <div>\n",
              "            <script src=\"https://cdnjs.cloudflare.com/ajax/libs/mathjax/2.7.5/MathJax.js?config=TeX-AMS-MML_SVG\"></script><script type=\"text/javascript\">if (window.MathJax) {MathJax.Hub.Config({SVG: {font: \"STIX-Web\"}});}</script>\n",
              "                <script type=\"text/javascript\">window.PlotlyConfig = {MathJaxConfig: 'local'};</script>\n",
              "        <script src=\"https://cdn.plot.ly/plotly-latest.min.js\"></script>    \n",
              "            <div id=\"30bf1314-defa-4642-b07f-00941dfdc22b\" class=\"plotly-graph-div\" style=\"height:525px; width:100%;\"></div>\n",
              "            <script type=\"text/javascript\">\n",
              "                \n",
              "                    window.PLOTLYENV=window.PLOTLYENV || {};\n",
              "                    \n",
              "                if (document.getElementById(\"30bf1314-defa-4642-b07f-00941dfdc22b\")) {\n",
              "                    Plotly.newPlot(\n",
              "                        '30bf1314-defa-4642-b07f-00941dfdc22b',\n",
              "                        [{\"coloraxis\": \"coloraxis\", \"customdata\": [[\"147,473\"], [\"133,081\"], [\"171,392\"], [\"14,678\"], [\"42,646\"], [\"113\"], [\"1,303\"], [\"4,929,764\"], [\"230,110\"], [\"11,730\"], [\"34,130\"], [\"659,056\"], [\"343,849\"], [\"14,840\"], [\"269,186\"], [\"1,249,484\"], [\"4,390\"], [\"446,040\"], [\"1,124,715\"], [\"14,163\"], [\"8,394\"], [\"2,553\"], [\"2,515\"], [\"472,813\"], [\"205,655\"], [\"106,690\"], [\"19,917,855\"], [\"2,500\"], [\"337\"], [\"424,872\"], [\"13,573\"], [\"7,080\"], [\"33,791\"], [\"77,243\"], [\"82,064\"], [\"1,430,825\"], [\"1,707\"], [\"643\"], [\"7,151\"], [\"4,973\"], [\"9,208\"], [\"1,615,771\"], [\"11,985\"], [\"59\"], [\"92,930\"], [\"4,785,320\"], [\"4,028\"], [\"13,186\"], [\"406,814\"], [\"50,135\"], [\"363,615\"], [\"384,596\"], [\"13,625\"], [\"101,419\"], [\"1,673,576\"], [\"49,917\"], [\"316,807\"], [\"11,651\"], [\"210\"], [\"341,905\"], [\"486,544\"], [\"284,215\"], [\"86,620\"], [\"8,880\"], [\"6,547\"], [\"133,557\"], [\"280,365\"], [\"983\"], [\"63\"], [\"29,781\"], [\"106,802\"], [\"6,127,019\"], [\"30,164\"], [\"20,048\"], [\"25,384\"], [\"7,709\"], [\"419,534\"], [\"3,776,721\"], [\"103,019\"], [\"4,965\"], [\"493,304\"], [\"119\"], [\"164\"], [\"19,503\"], [\"368,484\"], [\"4,451\"], [\"25,688\"], [\"22,458\"], [\"20,157\"], [\"27\"], [\"297,111\"], [\"809,491\"], [\"7,959\"], [\"31,654,584\"], [\"3,409,658\"], [\"3,871,008\"], [\"1,626,599\"], [\"300,976\"], [\"4,760\"], [\"874,018\"], [\"4,350,028\"], [\"52,895\"], [\"913,755\"], [\"770,712\"], [\"572,576\"], [\"203,213\"], [\"397,831\"], [\"162,892\"], [\"6,299\"], [\"138,863\"], [\"561,380\"], [\"12,908\"], [\"5,396\"], [\"249,114\"], [\"3,085\"], [\"282,818\"], [\"73,870\"], [\"156,380\"], [\"42,652\"], [\"51,809\"], [\"1,113,272\"], [\"77,432\"], [\"14,584\"], [\"34,295\"], [\"4\"], [\"19,149\"], [\"25,691\"], [\"3,913\"], [\"19,494\"], [\"2,829,443\"], [\"1\"], [\"259,478\"], [\"2,889\"], [\"164,155\"], [\"101,927\"], [\"21\"], [\"623,528\"], [\"122,028\"], [\"299,185\"], [\"118,922\"], [\"695,389\"], [\"1,865,511\"], [\"134\"], [\"2,870\"], [\"9,470\"], [\"5,623\"], [\"173,411\"], [\"137,627\"], [\"295,857\"], [\"1,029,811\"], [\"434,460\"], [\"17,717\"], [\"452,085\"], [\"2,109,294\"], [\"1,588,965\"], [\"2,882,939\"], [\"968,631\"], [\"226,239\"], [\"37,231\"], [\"1,083,189\"], [\"6,265,873\"], [\"70,698\"], [\"1,195\"], [\"2\"], [\"589\"], [\"5,581\"], [\"2,579\"], [\"28\"], [\"2,291\"], [\"3\"], [\"5,130\"], [\"2,446\"], [\"525,730\"], [\"62,290\"], [\"721,918\"], [\"18,189\"], [\"6,283\"], [\"64,981\"], [\"2,770\"], [\"392,647\"], [\"259,215\"], [\"20\"], [\"15,358\"], [\"2,447,454\"], [\"198,345\"], [\"11,049\"], [\"4,447,044\"], [\"308,812\"], [\"316,738\"], [\"37,138\"], [\"25,287\"], [\"25,979\"], [\"1,100,040\"], [\"717,665\"], [\"25,963\"], [\"15,674\"], [\"15,082\"], [\"1,017\"], [\"597,287\"], [\"10,898\"], [\"15,798\"], [\"38,811\"], [\"589,565\"], [\"5,727,045\"], [\"2,484\"], [\"93,927\"], [\"5,856,528\"], [\"2,252,785\"], [\"680,858\"], [\"381,364\"], [\"35,733,967\"], [\"129,327\"], [\"4\"], [\"304,726\"], [\"141,122\"], [\"445\"], [\"10\"], [\"7,061\"], [\"195,816\"], [\"107,490\"]], \"geo\": \"geo\", \"hoverlabel\": {\"namelength\": 0}, \"hovertemplate\": \"<b>%{hovertext}</b><br><br>Total Confirmed=%{customdata[0]}<br>country=%{location}<br>log(Total Confirmed)=%{z}\", \"hovertext\": [\"Afghanistan\", \"Albania\", \"Algeria\", \"Andorra\", \"Angola\", \"Anguilla\", \"Antigua And Barbuda\", \"Argentina\", \"Armenia\", \"Aruba\", \"Australia\", \"Austria\", \"Azerbaijan\", \"Bahamas\", \"Bahrain\", \"Bangladesh\", \"Barbados\", \"Belarus\", \"Belgium\", \"Belize\", \"Benin\", \"Bermuda\", \"Bhutan\", \"Bolivia\", \"Bosnia And Herzegovina\", \"Botswana\", \"Brazil\", \"British Virgin Islands\", \"Brunei Darussalam\", \"Bulgaria\", \"Burkina Faso\", \"Burundi\", \"Cabo Verde\", \"Cambodia\", \"Cameroon\", \"Canada\", \"Caribbean Netherlands\", \"Cayman Islands\", \"Central African Republic\", \"Chad\", \"Channel Islands\", \"Chile\", \"China Hong Kong Sar\", \"China Macao Sar\", \"China\", \"Colombia\", \"Comoros\", \"Congo\", \"Costa Rica\", \"Cote D Ivoire\", \"Croatia\", \"Cuba\", \"Curacao\", \"Cyprus\", \"Czech Republic\", \"Democratic Republic Of The Congo\", \"Denmark\", \"Djibouti\", \"Dominica\", \"Dominican Republic\", \"Ecuador\", \"Egypt\", \"El Salvador\", \"Equatorial Guinea\", \"Eritrea\", \"Estonia\", \"Ethiopia\", \"Faeroe Islands\", \"Falkland Islands Malvinas\", \"Fiji\", \"Finland\", \"France\", \"French Guiana\", \"French Polynesia\", \"Gabon\", \"Gambia\", \"Georgia\", \"Germany\", \"Ghana\", \"Gibraltar\", \"Greece\", \"Greenland\", \"Grenada\", \"Guadeloupe\", \"Guatemala\", \"Guinea Bissau\", \"Guinea\", \"Guyana\", \"Haiti\", \"Holy See\", \"Honduras\", \"Hungary\", \"Iceland\", \"India\", \"Indonesia\", \"Iran\", \"Iraq\", \"Ireland\", \"Isle Of Man\", \"Israel\", \"Italy\", \"Jamaica\", \"Japan\", \"Jordan\", \"Kazakhstan\", \"Kenya\", \"Kuwait\", \"Kyrgyzstan\", \"Laos\", \"Latvia\", \"Lebanon\", \"Lesotho\", \"Liberia\", \"Libya\", \"Liechtenstein\", \"Lithuania\", \"Luxembourg\", \"Macedonia\", \"Madagascar\", \"Malawi\", \"Malaysia\", \"Maldives\", \"Mali\", \"Malta\", \"Marshall Islands\", \"Martinique\", \"Mauritania\", \"Mauritius\", \"Mayotte\", \"Mexico\", \"Micronesia\", \"Moldova\", \"Monaco\", \"Mongolia\", \"Montenegro\", \"Montserrat\", \"Morocco\", \"Mozambique\", \"Myanmar\", \"Namibia\", \"Nepal\", \"Netherlands\", \"New Caledonia\", \"New Zealand\", \"Nicaragua\", \"Niger\", \"Nigeria\", \"Norway\", \"Oman\", \"Pakistan\", \"Panama\", \"Papua New Guinea\", \"Paraguay\", \"Peru\", \"Philippines\", \"Poland\", \"Portugal\", \"Qatar\", \"Reunion\", \"Romania\", \"Russia\", \"Rwanda\", \"Saint Barthelemy\", \"Saint Helena\", \"Saint Kitts And Nevis\", \"Saint Lucia\", \"Saint Martin\", \"Saint Pierre And Miquelon\", \"Saint Vincent And The Grenadines\", \"Samoa\", \"San Marino\", \"Sao Tome And Principe\", \"Saudi Arabia\", \"Senegal\", \"Serbia\", \"Seychelles\", \"Sierra Leone\", \"Singapore\", \"Sint Maarten\", \"Slovakia\", \"Slovenia\", \"Solomon Islands\", \"Somalia\", \"South Africa\", \"South Korea\", \"South Sudan\", \"Spain\", \"Sri Lanka\", \"State Of Palestine\", \"Sudan\", \"Suriname\", \"Swaziland\", \"Sweden\", \"Switzerland\", \"Syria\", \"Taiwan\", \"Tajikistan\", \"Tanzania\", \"Thailand\", \"Timor Leste\", \"Togo\", \"Trinidad And Tobago\", \"Tunisia\", \"Turkey\", \"Turks And Caicos Islands\", \"Uganda\", \"UK\", \"Ukraine\", \"United Arab Emirates\", \"Uruguay\", \"USA\", \"Uzbekistan\", \"Vanuatu\", \"Venezuela\", \"Viet Nam\", \"Wallis And Futuna Islands\", \"Western Sahara\", \"Yemen\", \"Zambia\", \"Zimbabwe\"], \"locationmode\": \"country names\", \"locations\": [\"Afghanistan\", \"Albania\", \"Algeria\", \"Andorra\", \"Angola\", \"Anguilla\", \"Antigua And Barbuda\", \"Argentina\", \"Armenia\", \"Aruba\", \"Australia\", \"Austria\", \"Azerbaijan\", \"Bahamas\", \"Bahrain\", \"Bangladesh\", \"Barbados\", \"Belarus\", \"Belgium\", \"Belize\", \"Benin\", \"Bermuda\", \"Bhutan\", \"Bolivia\", \"Bosnia And Herzegovina\", \"Botswana\", \"Brazil\", \"British Virgin Islands\", \"Brunei Darussalam\", \"Bulgaria\", \"Burkina Faso\", \"Burundi\", \"Cabo Verde\", \"Cambodia\", \"Cameroon\", \"Canada\", \"Caribbean Netherlands\", \"Cayman Islands\", \"Central African Republic\", \"Chad\", \"Channel Islands\", \"Chile\", \"China Hong Kong Sar\", \"China Macao Sar\", \"China\", \"Colombia\", \"Comoros\", \"Congo\", \"Costa Rica\", \"Cote D Ivoire\", \"Croatia\", \"Cuba\", \"Curacao\", \"Cyprus\", \"Czech Republic\", \"Democratic Republic Of The Congo\", \"Denmark\", \"Djibouti\", \"Dominica\", \"Dominican Republic\", \"Ecuador\", \"Egypt\", \"El Salvador\", \"Equatorial Guinea\", \"Eritrea\", \"Estonia\", \"Ethiopia\", \"Faeroe Islands\", \"Falkland Islands Malvinas\", \"Fiji\", \"Finland\", \"France\", \"French Guiana\", \"French Polynesia\", \"Gabon\", \"Gambia\", \"Georgia\", \"Germany\", \"Ghana\", \"Gibraltar\", \"Greece\", \"Greenland\", \"Grenada\", \"Guadeloupe\", \"Guatemala\", \"Guinea Bissau\", \"Guinea\", \"Guyana\", \"Haiti\", \"Holy See\", \"Honduras\", \"Hungary\", \"Iceland\", \"India\", \"Indonesia\", \"Iran\", \"Iraq\", \"Ireland\", \"Isle Of Man\", \"Israel\", \"Italy\", \"Jamaica\", \"Japan\", \"Jordan\", \"Kazakhstan\", \"Kenya\", \"Kuwait\", \"Kyrgyzstan\", \"Laos\", \"Latvia\", \"Lebanon\", \"Lesotho\", \"Liberia\", \"Libya\", \"Liechtenstein\", \"Lithuania\", \"Luxembourg\", \"Macedonia\", \"Madagascar\", \"Malawi\", \"Malaysia\", \"Maldives\", \"Mali\", \"Malta\", \"Marshall Islands\", \"Martinique\", \"Mauritania\", \"Mauritius\", \"Mayotte\", \"Mexico\", \"Micronesia\", \"Moldova\", \"Monaco\", \"Mongolia\", \"Montenegro\", \"Montserrat\", \"Morocco\", \"Mozambique\", \"Myanmar\", \"Namibia\", \"Nepal\", \"Netherlands\", \"New Caledonia\", \"New Zealand\", \"Nicaragua\", \"Niger\", \"Nigeria\", \"Norway\", \"Oman\", \"Pakistan\", \"Panama\", \"Papua New Guinea\", \"Paraguay\", \"Peru\", \"Philippines\", \"Poland\", \"Portugal\", \"Qatar\", \"Reunion\", \"Romania\", \"Russia\", \"Rwanda\", \"Saint Barthelemy\", \"Saint Helena\", \"Saint Kitts And Nevis\", \"Saint Lucia\", \"Saint Martin\", \"Saint Pierre And Miquelon\", \"Saint Vincent And The Grenadines\", \"Samoa\", \"San Marino\", \"Sao Tome And Principe\", \"Saudi Arabia\", \"Senegal\", \"Serbia\", \"Seychelles\", \"Sierra Leone\", \"Singapore\", \"Sint Maarten\", \"Slovakia\", \"Slovenia\", \"Solomon Islands\", \"Somalia\", \"South Africa\", \"South Korea\", \"South Sudan\", \"Spain\", \"Sri Lanka\", \"State Of Palestine\", \"Sudan\", \"Suriname\", \"Swaziland\", \"Sweden\", \"Switzerland\", \"Syria\", \"Taiwan\", \"Tajikistan\", \"Tanzania\", \"Thailand\", \"Timor Leste\", \"Togo\", \"Trinidad And Tobago\", \"Tunisia\", \"Turkey\", \"Turks And Caicos Islands\", \"Uganda\", \"UK\", \"Ukraine\", \"United Arab Emirates\", \"Uruguay\", \"USA\", \"Uzbekistan\", \"Vanuatu\", \"Venezuela\", \"Viet Nam\", \"Wallis And Futuna Islands\", \"Western Sahara\", \"Yemen\", \"Zambia\", \"Zimbabwe\"], \"name\": \"\", \"type\": \"choropleth\", \"z\": [17.17009131818785, 17.021945086539844, 17.38694024532431, 13.84136778188234, 15.380122809233894, 6.820178962415188, 10.347621368568134, 22.23308715219932, 17.81196415524751, 13.51791539291587, 15.058752793986228, 19.330041530701685, 18.391415624313282, 13.857203471508166, 18.03824385371717, 20.252900996744433, 12.10000522442272, 18.766813568470276, 20.101128041720493, 13.78983926832515, 13.03514274788591, 11.31797782240712, 11.29634268469289, 18.85091017741777, 17.649866622314565, 16.703065433855915, 24.24755895280789, 11.287712379549449, 8.396604781181859, 18.696668744442, 13.728452010164396, 12.78953364497036, 15.044351425336554, 16.23711657699536, 16.32446185597732, 20.448415800388716, 10.737247343027738, 9.328674927327947, 12.803929287974446, 12.279900715802762, 13.16867211813223, 20.623791311612454, 13.548942288536495, 5.882643049361842, 16.50385678739994, 22.190183971982556, 11.975847968006784, 13.686719366021846, 18.6340098030497, 15.613530501870184, 18.47205218986335, 18.552984232407983, 13.733968609439014, 16.629968428927835, 20.67450263712991, 15.607243610721195, 18.273244687233486, 13.508166165598634, 7.714245517666122, 18.383235995255674, 18.892210753670145, 18.116623172066575, 16.40241255195493, 13.116343961237469, 12.67661826358852, 17.027096067037544, 18.096946732921985, 9.94104760634058, 5.977279923499917, 14.86210457775485, 16.70457913797038, 22.546753894470537, 14.880540134333733, 14.29117069932186, 14.631631805917637, 12.912328012687096, 18.678428209163194, 21.84870277995332, 16.652550915513945, 12.277578002415737, 18.912117460039575, 6.894817763307944, 7.357552004618084, 14.251408439535986, 18.491242451635596, 12.119913785452269, 14.64880694972577, 14.454941833621119, 14.29899331564994, 4.754887502163468, 18.180642493786085, 19.626655515029448, 12.958371460949852, 24.915911100206287, 21.70119560873548, 21.884277858496223, 20.63342720139428, 18.199288924672818, 12.216745858195306, 19.737303466111573, 22.05259325656856, 15.690843734854205, 19.801447869844395, 19.555832328359866, 19.12710767427699, 17.632633171997764, 18.6017961734434, 17.313556225975265, 12.620907095885338, 17.083302719347298, 19.098618141039665, 13.655977862486942, 12.397674632948268, 17.92644657655757, 11.591054774036781, 18.109514418078938, 16.172700957200686, 17.25469648742828, 15.380325772263733, 15.660915116988745, 20.08637469130242, 16.24064228571925, 13.832098846039134, 15.06571063521812, 2.0, 14.224981433176941, 14.648975426540328, 11.934059394900794, 14.25074252905064, 21.432086643502007, 0.0, 17.985252698428912, 11.496354488564615, 17.32469916809029, 16.637176739938997, 4.392317422778761, 19.250094821266636, 16.89685269457177, 18.19067832022356, 16.85965610587791, 19.407460720433953, 20.831139436366385, 7.066089190457772, 11.48683502156305, 13.209148710355747, 12.457124331540804, 17.40383589054044, 17.070404003669626, 18.17454050420723, 19.973948154904956, 18.728863831089644, 14.112846714168288, 18.786234524841724, 21.008328765821737, 20.59965591623682, 21.45910888054876, 19.885587650028214, 17.787488122848153, 15.18421674609251, 20.046853562568675, 22.57908409802979, 16.10938178226596, 10.222794902868111, 1.0, 9.20212382383046, 12.446307931050345, 11.332596057789214, 4.807354922057604, 11.161761743304675, 1.584962500721156, 12.324743110494417, 11.256208688527387, 19.003962536940904, 15.926712951973784, 19.461475450452603, 14.150778607822048, 12.617237864746105, 15.987730325185758, 11.43567026093655, 18.58287334873992, 17.983789679540013, 4.321928094887363, 13.906702732460797, 21.2228503138945, 17.59765250405449, 13.431628182620894, 22.08441524841606, 18.23636928923231, 18.272930436601836, 15.18060850317566, 14.626108268197486, 14.665058278279544, 20.069124553758133, 19.452951037674545, 14.664169474560614, 13.936085781679678, 13.880540134333733, 9.9901039638575, 19.188064796183514, 13.411775775576528, 13.947454306767218, 15.24417798547504, 19.169291354661485, 22.44935950874349, 11.278449458220482, 16.519252310239356, 22.481614196143326, 21.103278202367253, 19.3769944150274, 18.540809136984254, 25.09079274755921, 16.980663976960663, 2.0, 18.217153074135613, 17.106583386658286, 8.79766152585376, 3.321928094887362, 12.785656801427193, 17.57913912588289, 16.713842923819254]}],\n",
              "                        {\"coloraxis\": {\"colorbar\": {\"tickmode\": \"array\", \"ticktext\": [\"1\", \"4\", \"16\", \"64\", \"256\", \"1,024\", \"4,096\", \"16,384\", \"65,536\", \"262,144\", \"1,048,576\", \"4,194,304\", \"16,777,216\"], \"tickvals\": [0, 2, 4, 6, 8, 10, 12, 14, 16, 18, 20, 22, 24], \"title\": {\"side\": \"top\", \"text\": \"<b>Confirmed Cases</b><br>\"}}, \"colorscale\": [[0.0, \"rgb(247,251,255)\"], [0.125, \"rgb(222,235,247)\"], [0.25, \"rgb(198,219,239)\"], [0.375, \"rgb(158,202,225)\"], [0.5, \"rgb(107,174,214)\"], [0.625, \"rgb(66,146,198)\"], [0.75, \"rgb(33,113,181)\"], [0.875, \"rgb(8,81,156)\"], [1.0, \"rgb(8,48,107)\"]]}, \"geo\": {\"center\": {}, \"domain\": {\"x\": [0.0, 1.0], \"y\": [0.0, 1.0]}}, \"legend\": {\"tracegroupgap\": 0}, \"margin\": {\"l\": 30, \"r\": 20}, \"template\": {\"data\": {\"bar\": [{\"error_x\": {\"color\": \"#2a3f5f\"}, \"error_y\": {\"color\": \"#2a3f5f\"}, \"marker\": {\"line\": {\"color\": \"#E5ECF6\", \"width\": 0.5}}, \"type\": \"bar\"}], \"barpolar\": [{\"marker\": {\"line\": {\"color\": \"#E5ECF6\", \"width\": 0.5}}, \"type\": \"barpolar\"}], \"carpet\": [{\"aaxis\": {\"endlinecolor\": \"#2a3f5f\", \"gridcolor\": \"white\", \"linecolor\": \"white\", \"minorgridcolor\": \"white\", \"startlinecolor\": \"#2a3f5f\"}, \"baxis\": {\"endlinecolor\": \"#2a3f5f\", \"gridcolor\": \"white\", \"linecolor\": \"white\", \"minorgridcolor\": \"white\", \"startlinecolor\": \"#2a3f5f\"}, \"type\": \"carpet\"}], \"choropleth\": [{\"colorbar\": {\"outlinewidth\": 0, \"ticks\": \"\"}, \"type\": \"choropleth\"}], \"contour\": [{\"colorbar\": {\"outlinewidth\": 0, \"ticks\": \"\"}, \"colorscale\": [[0.0, \"#0d0887\"], [0.1111111111111111, \"#46039f\"], [0.2222222222222222, \"#7201a8\"], [0.3333333333333333, \"#9c179e\"], [0.4444444444444444, \"#bd3786\"], [0.5555555555555556, \"#d8576b\"], [0.6666666666666666, \"#ed7953\"], [0.7777777777777778, \"#fb9f3a\"], [0.8888888888888888, \"#fdca26\"], [1.0, \"#f0f921\"]], \"type\": \"contour\"}], \"contourcarpet\": [{\"colorbar\": {\"outlinewidth\": 0, \"ticks\": \"\"}, \"type\": \"contourcarpet\"}], \"heatmap\": [{\"colorbar\": {\"outlinewidth\": 0, \"ticks\": \"\"}, \"colorscale\": [[0.0, \"#0d0887\"], [0.1111111111111111, \"#46039f\"], [0.2222222222222222, \"#7201a8\"], [0.3333333333333333, \"#9c179e\"], [0.4444444444444444, \"#bd3786\"], [0.5555555555555556, \"#d8576b\"], [0.6666666666666666, \"#ed7953\"], [0.7777777777777778, \"#fb9f3a\"], [0.8888888888888888, \"#fdca26\"], [1.0, \"#f0f921\"]], \"type\": \"heatmap\"}], \"heatmapgl\": [{\"colorbar\": {\"outlinewidth\": 0, \"ticks\": \"\"}, \"colorscale\": [[0.0, \"#0d0887\"], [0.1111111111111111, \"#46039f\"], [0.2222222222222222, \"#7201a8\"], [0.3333333333333333, \"#9c179e\"], [0.4444444444444444, \"#bd3786\"], [0.5555555555555556, \"#d8576b\"], [0.6666666666666666, \"#ed7953\"], [0.7777777777777778, \"#fb9f3a\"], [0.8888888888888888, \"#fdca26\"], [1.0, \"#f0f921\"]], \"type\": \"heatmapgl\"}], \"histogram\": [{\"marker\": {\"colorbar\": {\"outlinewidth\": 0, \"ticks\": \"\"}}, \"type\": \"histogram\"}], \"histogram2d\": [{\"colorbar\": {\"outlinewidth\": 0, \"ticks\": \"\"}, \"colorscale\": [[0.0, \"#0d0887\"], [0.1111111111111111, \"#46039f\"], [0.2222222222222222, \"#7201a8\"], [0.3333333333333333, \"#9c179e\"], [0.4444444444444444, \"#bd3786\"], [0.5555555555555556, \"#d8576b\"], [0.6666666666666666, \"#ed7953\"], [0.7777777777777778, \"#fb9f3a\"], [0.8888888888888888, \"#fdca26\"], [1.0, \"#f0f921\"]], \"type\": \"histogram2d\"}], \"histogram2dcontour\": [{\"colorbar\": {\"outlinewidth\": 0, \"ticks\": \"\"}, \"colorscale\": [[0.0, \"#0d0887\"], [0.1111111111111111, \"#46039f\"], [0.2222222222222222, \"#7201a8\"], [0.3333333333333333, \"#9c179e\"], [0.4444444444444444, \"#bd3786\"], [0.5555555555555556, \"#d8576b\"], [0.6666666666666666, \"#ed7953\"], [0.7777777777777778, \"#fb9f3a\"], [0.8888888888888888, \"#fdca26\"], [1.0, \"#f0f921\"]], \"type\": \"histogram2dcontour\"}], \"mesh3d\": [{\"colorbar\": {\"outlinewidth\": 0, \"ticks\": \"\"}, \"type\": \"mesh3d\"}], \"parcoords\": [{\"line\": {\"colorbar\": {\"outlinewidth\": 0, \"ticks\": \"\"}}, \"type\": \"parcoords\"}], \"pie\": [{\"automargin\": true, \"type\": \"pie\"}], \"scatter\": [{\"marker\": {\"colorbar\": {\"outlinewidth\": 0, \"ticks\": \"\"}}, \"type\": \"scatter\"}], \"scatter3d\": [{\"line\": {\"colorbar\": {\"outlinewidth\": 0, \"ticks\": \"\"}}, \"marker\": {\"colorbar\": {\"outlinewidth\": 0, \"ticks\": \"\"}}, \"type\": \"scatter3d\"}], \"scattercarpet\": [{\"marker\": {\"colorbar\": {\"outlinewidth\": 0, \"ticks\": \"\"}}, \"type\": \"scattercarpet\"}], \"scattergeo\": [{\"marker\": {\"colorbar\": {\"outlinewidth\": 0, \"ticks\": \"\"}}, \"type\": \"scattergeo\"}], \"scattergl\": [{\"marker\": {\"colorbar\": {\"outlinewidth\": 0, \"ticks\": \"\"}}, \"type\": \"scattergl\"}], \"scattermapbox\": [{\"marker\": {\"colorbar\": {\"outlinewidth\": 0, \"ticks\": \"\"}}, \"type\": \"scattermapbox\"}], \"scatterpolar\": [{\"marker\": {\"colorbar\": {\"outlinewidth\": 0, \"ticks\": \"\"}}, \"type\": \"scatterpolar\"}], \"scatterpolargl\": [{\"marker\": {\"colorbar\": {\"outlinewidth\": 0, \"ticks\": \"\"}}, \"type\": \"scatterpolargl\"}], \"scatterternary\": [{\"marker\": {\"colorbar\": {\"outlinewidth\": 0, \"ticks\": \"\"}}, \"type\": \"scatterternary\"}], \"surface\": [{\"colorbar\": {\"outlinewidth\": 0, \"ticks\": \"\"}, \"colorscale\": [[0.0, \"#0d0887\"], [0.1111111111111111, \"#46039f\"], [0.2222222222222222, \"#7201a8\"], [0.3333333333333333, \"#9c179e\"], [0.4444444444444444, \"#bd3786\"], [0.5555555555555556, \"#d8576b\"], [0.6666666666666666, \"#ed7953\"], [0.7777777777777778, \"#fb9f3a\"], [0.8888888888888888, \"#fdca26\"], [1.0, \"#f0f921\"]], \"type\": \"surface\"}], \"table\": [{\"cells\": {\"fill\": {\"color\": \"#EBF0F8\"}, \"line\": {\"color\": \"white\"}}, \"header\": {\"fill\": {\"color\": \"#C8D4E3\"}, \"line\": {\"color\": \"white\"}}, \"type\": \"table\"}]}, \"layout\": {\"annotationdefaults\": {\"arrowcolor\": \"#2a3f5f\", \"arrowhead\": 0, \"arrowwidth\": 1}, \"coloraxis\": {\"colorbar\": {\"outlinewidth\": 0, \"ticks\": \"\"}}, \"colorscale\": {\"diverging\": [[0, \"#8e0152\"], [0.1, \"#c51b7d\"], [0.2, \"#de77ae\"], [0.3, \"#f1b6da\"], [0.4, \"#fde0ef\"], [0.5, \"#f7f7f7\"], [0.6, \"#e6f5d0\"], [0.7, \"#b8e186\"], [0.8, \"#7fbc41\"], [0.9, \"#4d9221\"], [1, \"#276419\"]], \"sequential\": [[0.0, \"#0d0887\"], [0.1111111111111111, \"#46039f\"], [0.2222222222222222, \"#7201a8\"], [0.3333333333333333, \"#9c179e\"], [0.4444444444444444, \"#bd3786\"], [0.5555555555555556, \"#d8576b\"], [0.6666666666666666, \"#ed7953\"], [0.7777777777777778, \"#fb9f3a\"], [0.8888888888888888, \"#fdca26\"], [1.0, \"#f0f921\"]], \"sequentialminus\": [[0.0, \"#0d0887\"], [0.1111111111111111, \"#46039f\"], [0.2222222222222222, \"#7201a8\"], [0.3333333333333333, \"#9c179e\"], [0.4444444444444444, \"#bd3786\"], [0.5555555555555556, \"#d8576b\"], [0.6666666666666666, \"#ed7953\"], [0.7777777777777778, \"#fb9f3a\"], [0.8888888888888888, \"#fdca26\"], [1.0, \"#f0f921\"]]}, \"colorway\": [\"#636efa\", \"#EF553B\", \"#00cc96\", \"#ab63fa\", \"#FFA15A\", \"#19d3f3\", \"#FF6692\", \"#B6E880\", \"#FF97FF\", \"#FECB52\"], \"font\": {\"color\": \"#2a3f5f\"}, \"geo\": {\"bgcolor\": \"white\", \"lakecolor\": \"white\", \"landcolor\": \"#E5ECF6\", \"showlakes\": true, \"showland\": true, \"subunitcolor\": \"white\"}, \"hoverlabel\": {\"align\": \"left\"}, \"hovermode\": \"closest\", \"mapbox\": {\"style\": \"light\"}, \"paper_bgcolor\": \"white\", \"plot_bgcolor\": \"#E5ECF6\", \"polar\": {\"angularaxis\": {\"gridcolor\": \"white\", \"linecolor\": \"white\", \"ticks\": \"\"}, \"bgcolor\": \"#E5ECF6\", \"radialaxis\": {\"gridcolor\": \"white\", \"linecolor\": \"white\", \"ticks\": \"\"}}, \"scene\": {\"xaxis\": {\"backgroundcolor\": \"#E5ECF6\", \"gridcolor\": \"white\", \"gridwidth\": 2, \"linecolor\": \"white\", \"showbackground\": true, \"ticks\": \"\", \"zerolinecolor\": \"white\"}, \"yaxis\": {\"backgroundcolor\": \"#E5ECF6\", \"gridcolor\": \"white\", \"gridwidth\": 2, \"linecolor\": \"white\", \"showbackground\": true, \"ticks\": \"\", \"zerolinecolor\": \"white\"}, \"zaxis\": {\"backgroundcolor\": \"#E5ECF6\", \"gridcolor\": \"white\", \"gridwidth\": 2, \"linecolor\": \"white\", \"showbackground\": true, \"ticks\": \"\", \"zerolinecolor\": \"white\"}}, \"shapedefaults\": {\"line\": {\"color\": \"#2a3f5f\"}}, \"ternary\": {\"aaxis\": {\"gridcolor\": \"white\", \"linecolor\": \"white\", \"ticks\": \"\"}, \"baxis\": {\"gridcolor\": \"white\", \"linecolor\": \"white\", \"ticks\": \"\"}, \"bgcolor\": \"#E5ECF6\", \"caxis\": {\"gridcolor\": \"white\", \"linecolor\": \"white\", \"ticks\": \"\"}}, \"title\": {\"x\": 0.05}, \"xaxis\": {\"automargin\": true, \"gridcolor\": \"white\", \"linecolor\": \"white\", \"ticks\": \"\", \"title\": {\"standoff\": 15}, \"zerolinecolor\": \"white\", \"zerolinewidth\": 2}, \"yaxis\": {\"automargin\": true, \"gridcolor\": \"white\", \"linecolor\": \"white\", \"ticks\": \"\", \"title\": {\"standoff\": 15}, \"zerolinecolor\": \"white\", \"zerolinewidth\": 2}}}, \"title\": {\"font\": {\"size\": 22}, \"text\": \"<b>Coronavirus Confirmed Cases Around The Globe</b>\"}},\n",
              "                        {\"responsive\": true}\n",
              "                    ).then(function(){\n",
              "                            \n",
              "var gd = document.getElementById('30bf1314-defa-4642-b07f-00941dfdc22b');\n",
              "var x = new MutationObserver(function (mutations, observer) {{\n",
              "        var display = window.getComputedStyle(gd).display;\n",
              "        if (!display || display === 'none') {{\n",
              "            console.log([gd, 'removed!']);\n",
              "            Plotly.purge(gd);\n",
              "            observer.disconnect();\n",
              "        }}\n",
              "}});\n",
              "\n",
              "// Listen for the removal of the full notebook cells\n",
              "var notebookContainer = gd.closest('#notebook-container');\n",
              "if (notebookContainer) {{\n",
              "    x.observe(notebookContainer, {childList: true});\n",
              "}}\n",
              "\n",
              "// Listen for the clearing of the current output cell\n",
              "var outputEl = gd.closest('.output');\n",
              "if (outputEl) {{\n",
              "    x.observe(outputEl, {childList: true});\n",
              "}}\n",
              "\n",
              "                        })\n",
              "                };\n",
              "                \n",
              "            </script>\n",
              "        </div>\n",
              "</body>\n",
              "</html>"
            ]
          },
          "metadata": {}
        }
      ]
    },
    {
      "cell_type": "markdown",
      "metadata": {
        "id": "k7mmos4poDG2"
      },
      "source": [
        "Now, taking a look at the total confirmed COVID-19 cases from all around the world, we can see the spread of the virus in nearly every single country around the world!\n",
        "\n",
        "To better visualize and compare various countries to each others, the colors in the above map were set based on the log of the total confirmed cases, rather than the raw total confirmed cases numbers. This helps in maintaining a generally good visualization in terms of comparing countries with small number to one another and countries with high large numbers to one another. Notice on the scale the exponential increase of the cases with the intensity of the blue color.\n",
        "\n",
        "Both North and South America appear to be heavily hit by this pandemic. Europe and Asia are also recording quite high numbers, followed by Africa with slightly less aggressive numbers. Australia/Oceania seems to be the continent fairing the best with this pandemic, with record low numbers"
      ]
    }
  ]
}